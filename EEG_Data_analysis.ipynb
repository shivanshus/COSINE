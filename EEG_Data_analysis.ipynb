{
  "nbformat": 4,
  "nbformat_minor": 0,
  "metadata": {
    "anaconda-cloud": {},
    "kernelspec": {
      "name": "python3",
      "display_name": "Python 3"
    },
    "colab": {
      "name": "preprocessing.ipynb",
      "provenance": [],
      "collapsed_sections": [
        "wyjeYVVh0IOc",
        "F1jc5J8W0SSL",
        "-MCZy66qyJHO",
        "8flT3CiP0s8c",
        "pTRYyVTDGp9o"
      ],
      "include_colab_link": true
    },
    "accelerator": "TPU"
  },
  "cells": [
    {
      "cell_type": "markdown",
      "metadata": {
        "id": "view-in-github",
        "colab_type": "text"
      },
      "source": [
        "<a href=\"https://colab.research.google.com/github/shivanshus/COSINE/blob/master/EEG_Data_analysis.ipynb\" target=\"_parent\"><img src=\"https://colab.research.google.com/assets/colab-badge.svg\" alt=\"Open In Colab\"/></a>"
      ]
    },
    {
      "cell_type": "markdown",
      "metadata": {
        "id": "EPFXbB28sroh",
        "colab_type": "text"
      },
      "source": [
        "# EEG Data Analysis\n",
        "\n",
        "\n",
        "We will be using the Python MNE library. "
      ]
    },
    {
      "cell_type": "markdown",
      "metadata": {
        "id": "wyjeYVVh0IOc",
        "colab_type": "text"
      },
      "source": [
        "## Importing Data"
      ]
    },
    {
      "cell_type": "code",
      "metadata": {
        "id": "sPU9FVRDujxw",
        "colab_type": "code",
        "colab": {
          "base_uri": "https://localhost:8080/",
          "height": 97
        },
        "outputId": "23a291ac-833f-4deb-c68e-709aa16016da"
      },
      "source": [
        "!pip install mne"
      ],
      "execution_count": 115,
      "outputs": [
        {
          "output_type": "stream",
          "text": [
            "Requirement already satisfied: mne in /usr/local/lib/python3.6/dist-packages (0.20.7)\n",
            "Requirement already satisfied: numpy>=1.11.3 in /usr/local/lib/python3.6/dist-packages (from mne) (1.18.5)\n",
            "Requirement already satisfied: scipy>=0.17.1 in /usr/local/lib/python3.6/dist-packages (from mne) (1.4.1)\n"
          ],
          "name": "stdout"
        }
      ]
    },
    {
      "cell_type": "code",
      "metadata": {
        "id": "9ben-fCHsroi",
        "colab_type": "code",
        "colab": {}
      },
      "source": [
        "# Import the required libraries\n",
        "\n",
        "import mne\n",
        "import numpy as np\n",
        "import matplotlib.pyplot as plt\n",
        "%matplotlib inline  "
      ],
      "execution_count": 117,
      "outputs": []
    },
    {
      "cell_type": "code",
      "metadata": {
        "id": "GKJnuez3tSH1",
        "colab_type": "code",
        "colab": {
          "base_uri": "https://localhost:8080/",
          "height": 34
        },
        "outputId": "0612a402-f4f4-4b66-8052-1e74fc920aaf"
      },
      "source": [
        "from google.colab import drive\n",
        "drive.mount('/content/drive')"
      ],
      "execution_count": 118,
      "outputs": [
        {
          "output_type": "stream",
          "text": [
            "Drive already mounted at /content/drive; to attempt to forcibly remount, call drive.mount(\"/content/drive\", force_remount=True).\n"
          ],
          "name": "stdout"
        }
      ]
    },
    {
      "cell_type": "code",
      "metadata": {
        "id": "kHB_vw_L6x5c",
        "colab_type": "code",
        "colab": {
          "base_uri": "https://localhost:8080/",
          "height": 34
        },
        "outputId": "79007654-e6e4-4cb8-8ffc-3250fcf04e8c"
      },
      "source": [
        "path = '/content/drive/My Drive/raw_eeg_med_1.bdf'\n",
        "print(path)"
      ],
      "execution_count": 119,
      "outputs": [
        {
          "output_type": "stream",
          "text": [
            "/content/drive/My Drive/raw_eeg_med_1.bdf\n"
          ],
          "name": "stdout"
        }
      ]
    },
    {
      "cell_type": "markdown",
      "metadata": {
        "id": "dRPQYz4usror",
        "colab_type": "text"
      },
      "source": [
        "Now read the .bdf file: "
      ]
    },
    {
      "cell_type": "code",
      "metadata": {
        "id": "OMouyLsssros",
        "colab_type": "code",
        "colab": {
          "base_uri": "https://localhost:8080/",
          "height": 353
        },
        "outputId": "a5161bfe-8afd-478d-c093-c02511d4d99b"
      },
      "source": [
        "raw = mne.io.read_raw_bdf(path, preload=True) #reading the data file in the variable 'raw'\n",
        "\n",
        "print('\\n','--- Data Information ---','\\n')\n",
        "raw.info  #to get information about the data "
      ],
      "execution_count": 120,
      "outputs": [
        {
          "output_type": "stream",
          "text": [
            "Extracting EDF parameters from /content/drive/My Drive/raw_eeg_med_1.bdf...\n",
            "BDF file detected\n",
            "Setting channel info structure...\n",
            "Creating raw.info structure...\n",
            "Reading 0 ... 696575  =      0.000 ...  2720.996 secs...\n",
            "\n",
            " --- Data Information --- \n",
            "\n"
          ],
          "name": "stdout"
        },
        {
          "output_type": "execute_result",
          "data": {
            "text/plain": [
              "<Info | 7 non-empty values\n",
              " bads: []\n",
              " ch_names: A1, A2, A3, A4, A5, A6, A7, A8, A9, A10, A11, A12, A13, A14, ...\n",
              " chs: 79 EEG, 1 STIM\n",
              " custom_ref_applied: False\n",
              " highpass: 0.0 Hz\n",
              " lowpass: 52.0 Hz\n",
              " meas_date: 2014-04-04 19:40:17 UTC\n",
              " nchan: 80\n",
              " projs: []\n",
              " sfreq: 256.0 Hz\n",
              ">"
            ]
          },
          "metadata": {
            "tags": []
          },
          "execution_count": 120
        }
      ]
    },
    {
      "cell_type": "markdown",
      "metadata": {
        "id": "fmrpWRlVsrov",
        "colab_type": "text"
      },
      "source": [
        "Once the Raw file has been created, we can plot the data:"
      ]
    },
    {
      "cell_type": "code",
      "metadata": {
        "id": "RJJGX41LX4jK",
        "colab_type": "code",
        "colab": {
          "base_uri": "https://localhost:8080/",
          "height": 34
        },
        "outputId": "20eb50b6-5e1a-4ebf-d531-e5b81de85366"
      },
      "source": [
        "raw.get_data().shape # returns : (num of channels, num of recordings)"
      ],
      "execution_count": 121,
      "outputs": [
        {
          "output_type": "execute_result",
          "data": {
            "text/plain": [
              "(80, 696576)"
            ]
          },
          "metadata": {
            "tags": []
          },
          "execution_count": 121
        }
      ]
    },
    {
      "cell_type": "code",
      "metadata": {
        "id": "PVmP5UwMX4nj",
        "colab_type": "code",
        "colab": {
          "base_uri": "https://localhost:8080/",
          "height": 235
        },
        "outputId": "ff67d558-feeb-469d-cc9a-a75a059de708"
      },
      "source": [
        "raw.get_data()"
      ],
      "execution_count": 122,
      "outputs": [
        {
          "output_type": "execute_result",
          "data": {
            "text/plain": [
              "array([[-4.04094566e-03, -4.04088316e-03, -4.04938314e-03, ...,\n",
              "         1.11120107e-03,  1.11291982e-03,  1.11588856e-03],\n",
              "       [-1.02229655e-02, -1.02261530e-02, -1.02329342e-02, ...,\n",
              "        -3.73182123e-03, -3.73219623e-03, -3.72860249e-03],\n",
              "       [-1.43506766e-02, -1.43499266e-02, -1.43538329e-02, ...,\n",
              "        -8.82346807e-03, -8.82224932e-03, -8.82315557e-03],\n",
              "       ...,\n",
              "       [-4.05300505e+00, -4.05299626e+00, -4.05298210e+00, ...,\n",
              "        -4.05221844e+00, -4.05222088e+00, -4.05221844e+00],\n",
              "       [-5.00499994e-01, -5.00499994e-01, -5.00499994e-01, ...,\n",
              "        -5.00499994e-01, -5.00499994e-01, -5.00499994e-01],\n",
              "       [ 6.55360000e+04,  6.55360000e+04,  6.55360000e+04, ...,\n",
              "         0.00000000e+00,  0.00000000e+00,  0.00000000e+00]])"
            ]
          },
          "metadata": {
            "tags": []
          },
          "execution_count": 122
        }
      ]
    },
    {
      "cell_type": "code",
      "metadata": {
        "id": "1_hoF3I8HO0F",
        "colab_type": "code",
        "colab": {
          "base_uri": "https://localhost:8080/",
          "height": 375
        },
        "outputId": "c902e941-6b1f-4405-a6c8-a1893350f491"
      },
      "source": [
        "raw.plot_psd(tmin=0, tmax=60, fmin=0, fmax=52, average=True, spatial_colors=False);"
      ],
      "execution_count": 123,
      "outputs": [
        {
          "output_type": "stream",
          "text": [
            "Effective window size : 8.000 (s)\n"
          ],
          "name": "stdout"
        },
        {
          "output_type": "stream",
          "text": [
            "<ipython-input-123-002a39ff76be>:1: UserWarning: Infinite value in PSD for channels GSR2, Temp.\n",
            "These channels might be dead.\n",
            "  raw.plot_psd(tmin=0, tmax=60, fmin=0, fmax=52, average=True, spatial_colors=False);\n"
          ],
          "name": "stderr"
        },
        {
          "output_type": "display_data",
          "data": {
            "image/png": "[encoded data removed]",
            "text/plain": [
              "<Figure size 432x288 with 1 Axes>"
            ]
          },
          "metadata": {
            "tags": [],
            "needs_background": "light"
          }
        }
      ]
    },
    {
      "cell_type": "code",
      "metadata": {
        "id": "Hq4185ICHOv6",
        "colab_type": "code",
        "colab": {
          "base_uri": "https://localhost:8080/",
          "height": 235
        },
        "outputId": "24340fce-8c16-4030-f9e4-1c5d4a5b76d4"
      },
      "source": [
        "raw.filter(l_freq=0, h_freq=30) # only keeping frequencies between 0-30 Hz"
      ],
      "execution_count": 124,
      "outputs": [
        {
          "output_type": "stream",
          "text": [
            "Filtering raw data in 1 contiguous segment\n",
            "Setting up low-pass filter at 30 Hz\n",
            "\n",
            "FIR filter parameters\n",
            "---------------------\n",
            "Designing a one-pass, zero-phase, non-causal lowpass filter:\n",
            "- Windowed time-domain design (firwin) method\n",
            "- Hamming window with 0.0194 passband ripple and 53 dB stopband attenuation\n",
            "- Upper passband edge: 30.00 Hz\n",
            "- Upper transition bandwidth: 7.50 Hz (-6 dB cutoff frequency: 33.75 Hz)\n",
            "- Filter length: 113 samples (0.441 sec)\n",
            "\n"
          ],
          "name": "stdout"
        },
        {
          "output_type": "execute_result",
          "data": {
            "text/plain": [
              "<RawEDF | raw_eeg_med_1.bdf, 80 x 696576 (2721.0 s), ~425.3 MB, data loaded>"
            ]
          },
          "metadata": {
            "tags": []
          },
          "execution_count": 124
        }
      ]
    },
    {
      "cell_type": "code",
      "metadata": {
        "id": "uUmCZ3jJHOug",
        "colab_type": "code",
        "colab": {
          "base_uri": "https://localhost:8080/",
          "height": 325
        },
        "outputId": "db16c01d-6571-4f38-d5b2-585334f1bcbc"
      },
      "source": [
        "raw.plot_psd(tmin=0, tmax=60, fmin=0, fmax=52, average=True, spatial_colors=False);"
      ],
      "execution_count": 125,
      "outputs": [
        {
          "output_type": "stream",
          "text": [
            "Effective window size : 8.000 (s)\n"
          ],
          "name": "stdout"
        },
        {
          "output_type": "display_data",
          "data": {
            "image/png": "[encoded data removed]",
            "text/plain": [
              "<Figure size 432x288 with 1 Axes>"
            ]
          },
          "metadata": {
            "tags": [],
            "needs_background": "light"
          }
        }
      ]
    },
    {
      "cell_type": "code",
      "metadata": {
        "id": "HblBr3CfIET8",
        "colab_type": "code",
        "colab": {
          "base_uri": "https://localhost:8080/",
          "height": 459
        },
        "outputId": "2d177abe-a9ea-40fc-cb44-ed0474bb8d96"
      },
      "source": [
        "# Downsample a lot\n",
        "raw.resample(256, npad='auto')\n",
        "raw.plot_psd(tmin=0, tmax=60, fmin=0, fmax=30, average=True, spatial_colors=False);\n",
        "# Notice that the max plotted frequency is 60, the nyquist rate!"
      ],
      "execution_count": 129,
      "outputs": [
        {
          "output_type": "stream",
          "text": [
            "Trigger channel has a non-zero initial value of 65536 (consider using initial_event=True to detect this event)\n",
            "Removing orphaned offset at the beginning of the file.\n",
            "87 events found\n",
            "Event IDs: [  2   4 128]\n",
            "Trigger channel has a non-zero initial value of 65536 (consider using initial_event=True to detect this event)\n",
            "Removing orphaned offset at the beginning of the file.\n",
            "87 events found\n",
            "Event IDs: [  2   4 128]\n",
            "Effective window size : 8.000 (s)\n"
          ],
          "name": "stdout"
        },
        {
          "output_type": "display_data",
          "data": {
            "image/png": "[encoded data removed]",
            "text/plain": [
              "<Figure size 432x288 with 1 Axes>"
            ]
          },
          "metadata": {
            "tags": [],
            "needs_background": "light"
          }
        }
      ]
    },
    {
      "cell_type": "code",
      "metadata": {
        "id": "1ntho4J9IEPs",
        "colab_type": "code",
        "colab": {
          "base_uri": "https://localhost:8080/",
          "height": 316
        },
        "outputId": "7973dc99-a601-4d26-b924-01c684d5d1b5"
      },
      "source": [
        "raw.plot(scalings = 'auto',n_channels=80);"
      ],
      "execution_count": 130,
      "outputs": [
        {
          "output_type": "display_data",
          "data": {
            "image/png": "[encoded data removed]",
            "text/plain": [
              "<Figure size 432x288 with 4 Axes>"
            ]
          },
          "metadata": {
            "tags": []
          }
        }
      ]
    },
    {
      "cell_type": "code",
      "metadata": {
        "id": "ZVa3fKgLNVfF",
        "colab_type": "code",
        "colab": {
          "base_uri": "https://localhost:8080/",
          "height": 14801
        },
        "outputId": "bb533eaa-f4bf-483b-c298-8b0f5067c555"
      },
      "source": [
        "dig=raw.info['chs']\n",
        "dig"
      ],
      "execution_count": 163,
      "outputs": [
        {
          "output_type": "execute_result",
          "data": {
            "text/plain": [
              "[{'cal': 16777215.0,\n",
              "  'ch_name': 'A1',\n",
              "  'coil_type': 1 (FIFFV_COIL_EEG),\n",
              "  'coord_frame': 4 (FIFFV_COORD_HEAD),\n",
              "  'kind': 2 (FIFFV_EEG_CH),\n",
              "  'loc': array([0., 0., 0., 0., 0., 0., 0., 0., 0., 0., 0., 0.]),\n",
              "  'logno': 1,\n",
              "  'range': 524287.0,\n",
              "  'scanno': 1,\n",
              "  'unit': 107 (FIFF_UNIT_V),\n",
              "  'unit_mul': 0.0},\n",
              " {'cal': 16777215.0,\n",
              "  'ch_name': 'A2',\n",
              "  'coil_type': 1 (FIFFV_COIL_EEG),\n",
              "  'coord_frame': 4 (FIFFV_COORD_HEAD),\n",
              "  'kind': 2 (FIFFV_EEG_CH),\n",
              "  'loc': array([0., 0., 0., 0., 0., 0., 0., 0., 0., 0., 0., 0.]),\n",
              "  'logno': 2,\n",
              "  'range': 524287.0,\n",
              "  'scanno': 2,\n",
              "  'unit': 107 (FIFF_UNIT_V),\n",
              "  'unit_mul': 0.0},\n",
              " {'cal': 16777215.0,\n",
              "  'ch_name': 'A3',\n",
              "  'coil_type': 1 (FIFFV_COIL_EEG),\n",
              "  'coord_frame': 4 (FIFFV_COORD_HEAD),\n",
              "  'kind': 2 (FIFFV_EEG_CH),\n",
              "  'loc': array([0., 0., 0., 0., 0., 0., 0., 0., 0., 0., 0., 0.]),\n",
              "  'logno': 3,\n",
              "  'range': 524287.0,\n",
              "  'scanno': 3,\n",
              "  'unit': 107 (FIFF_UNIT_V),\n",
              "  'unit_mul': 0.0},\n",
              " {'cal': 16777215.0,\n",
              "  'ch_name': 'A4',\n",
              "  'coil_type': 1 (FIFFV_COIL_EEG),\n",
              "  'coord_frame': 4 (FIFFV_COORD_HEAD),\n",
              "  'kind': 2 (FIFFV_EEG_CH),\n",
              "  'loc': array([0., 0., 0., 0., 0., 0., 0., 0., 0., 0., 0., 0.]),\n",
              "  'logno': 4,\n",
              "  'range': 524287.0,\n",
              "  'scanno': 4,\n",
              "  'unit': 107 (FIFF_UNIT_V),\n",
              "  'unit_mul': 0.0},\n",
              " {'cal': 16777215.0,\n",
              "  'ch_name': 'A5',\n",
              "  'coil_type': 1 (FIFFV_COIL_EEG),\n",
              "  'coord_frame': 4 (FIFFV_COORD_HEAD),\n",
              "  'kind': 2 (FIFFV_EEG_CH),\n",
              "  'loc': array([0., 0., 0., 0., 0., 0., 0., 0., 0., 0., 0., 0.]),\n",
              "  'logno': 5,\n",
              "  'range': 524287.0,\n",
              "  'scanno': 5,\n",
              "  'unit': 107 (FIFF_UNIT_V),\n",
              "  'unit_mul': 0.0},\n",
              " {'cal': 16777215.0,\n",
              "  'ch_name': 'A6',\n",
              "  'coil_type': 1 (FIFFV_COIL_EEG),\n",
              "  'coord_frame': 4 (FIFFV_COORD_HEAD),\n",
              "  'kind': 2 (FIFFV_EEG_CH),\n",
              "  'loc': array([0., 0., 0., 0., 0., 0., 0., 0., 0., 0., 0., 0.]),\n",
              "  'logno': 6,\n",
              "  'range': 524287.0,\n",
              "  'scanno': 6,\n",
              "  'unit': 107 (FIFF_UNIT_V),\n",
              "  'unit_mul': 0.0},\n",
              " {'cal': 16777215.0,\n",
              "  'ch_name': 'A7',\n",
              "  'coil_type': 1 (FIFFV_COIL_EEG),\n",
              "  'coord_frame': 4 (FIFFV_COORD_HEAD),\n",
              "  'kind': 2 (FIFFV_EEG_CH),\n",
              "  'loc': array([0., 0., 0., 0., 0., 0., 0., 0., 0., 0., 0., 0.]),\n",
              "  'logno': 7,\n",
              "  'range': 524287.0,\n",
              "  'scanno': 7,\n",
              "  'unit': 107 (FIFF_UNIT_V),\n",
              "  'unit_mul': 0.0},\n",
              " {'cal': 16777215.0,\n",
              "  'ch_name': 'A8',\n",
              "  'coil_type': 1 (FIFFV_COIL_EEG),\n",
              "  'coord_frame': 4 (FIFFV_COORD_HEAD),\n",
              "  'kind': 2 (FIFFV_EEG_CH),\n",
              "  'loc': array([0., 0., 0., 0., 0., 0., 0., 0., 0., 0., 0., 0.]),\n",
              "  'logno': 8,\n",
              "  'range': 524287.0,\n",
              "  'scanno': 8,\n",
              "  'unit': 107 (FIFF_UNIT_V),\n",
              "  'unit_mul': 0.0},\n",
              " {'cal': 16777215.0,\n",
              "  'ch_name': 'A9',\n",
              "  'coil_type': 1 (FIFFV_COIL_EEG),\n",
              "  'coord_frame': 4 (FIFFV_COORD_HEAD),\n",
              "  'kind': 2 (FIFFV_EEG_CH),\n",
              "  'loc': array([0., 0., 0., 0., 0., 0., 0., 0., 0., 0., 0., 0.]),\n",
              "  'logno': 9,\n",
              "  'range': 524287.0,\n",
              "  'scanno': 9,\n",
              "  'unit': 107 (FIFF_UNIT_V),\n",
              "  'unit_mul': 0.0},\n",
              " {'cal': 16777215.0,\n",
              "  'ch_name': 'A10',\n",
              "  'coil_type': 1 (FIFFV_COIL_EEG),\n",
              "  'coord_frame': 4 (FIFFV_COORD_HEAD),\n",
              "  'kind': 2 (FIFFV_EEG_CH),\n",
              "  'loc': array([0., 0., 0., 0., 0., 0., 0., 0., 0., 0., 0., 0.]),\n",
              "  'logno': 10,\n",
              "  'range': 524287.0,\n",
              "  'scanno': 10,\n",
              "  'unit': 107 (FIFF_UNIT_V),\n",
              "  'unit_mul': 0.0},\n",
              " {'cal': 16777215.0,\n",
              "  'ch_name': 'A11',\n",
              "  'coil_type': 1 (FIFFV_COIL_EEG),\n",
              "  'coord_frame': 4 (FIFFV_COORD_HEAD),\n",
              "  'kind': 2 (FIFFV_EEG_CH),\n",
              "  'loc': array([0., 0., 0., 0., 0., 0., 0., 0., 0., 0., 0., 0.]),\n",
              "  'logno': 11,\n",
              "  'range': 524287.0,\n",
              "  'scanno': 11,\n",
              "  'unit': 107 (FIFF_UNIT_V),\n",
              "  'unit_mul': 0.0},\n",
              " {'cal': 16777215.0,\n",
              "  'ch_name': 'A12',\n",
              "  'coil_type': 1 (FIFFV_COIL_EEG),\n",
              "  'coord_frame': 4 (FIFFV_COORD_HEAD),\n",
              "  'kind': 2 (FIFFV_EEG_CH),\n",
              "  'loc': array([0., 0., 0., 0., 0., 0., 0., 0., 0., 0., 0., 0.]),\n",
              "  'logno': 12,\n",
              "  'range': 524287.0,\n",
              "  'scanno': 12,\n",
              "  'unit': 107 (FIFF_UNIT_V),\n",
              "  'unit_mul': 0.0},\n",
              " {'cal': 16777215.0,\n",
              "  'ch_name': 'A13',\n",
              "  'coil_type': 1 (FIFFV_COIL_EEG),\n",
              "  'coord_frame': 4 (FIFFV_COORD_HEAD),\n",
              "  'kind': 2 (FIFFV_EEG_CH),\n",
              "  'loc': array([0., 0., 0., 0., 0., 0., 0., 0., 0., 0., 0., 0.]),\n",
              "  'logno': 13,\n",
              "  'range': 524287.0,\n",
              "  'scanno': 13,\n",
              "  'unit': 107 (FIFF_UNIT_V),\n",
              "  'unit_mul': 0.0},\n",
              " {'cal': 16777215.0,\n",
              "  'ch_name': 'A14',\n",
              "  'coil_type': 1 (FIFFV_COIL_EEG),\n",
              "  'coord_frame': 4 (FIFFV_COORD_HEAD),\n",
              "  'kind': 2 (FIFFV_EEG_CH),\n",
              "  'loc': array([0., 0., 0., 0., 0., 0., 0., 0., 0., 0., 0., 0.]),\n",
              "  'logno': 14,\n",
              "  'range': 524287.0,\n",
              "  'scanno': 14,\n",
              "  'unit': 107 (FIFF_UNIT_V),\n",
              "  'unit_mul': 0.0},\n",
              " {'cal': 16777215.0,\n",
              "  'ch_name': 'A15',\n",
              "  'coil_type': 1 (FIFFV_COIL_EEG),\n",
              "  'coord_frame': 4 (FIFFV_COORD_HEAD),\n",
              "  'kind': 2 (FIFFV_EEG_CH),\n",
              "  'loc': array([0., 0., 0., 0., 0., 0., 0., 0., 0., 0., 0., 0.]),\n",
              "  'logno': 15,\n",
              "  'range': 524287.0,\n",
              "  'scanno': 15,\n",
              "  'unit': 107 (FIFF_UNIT_V),\n",
              "  'unit_mul': 0.0},\n",
              " {'cal': 16777215.0,\n",
              "  'ch_name': 'A16',\n",
              "  'coil_type': 1 (FIFFV_COIL_EEG),\n",
              "  'coord_frame': 4 (FIFFV_COORD_HEAD),\n",
              "  'kind': 2 (FIFFV_EEG_CH),\n",
              "  'loc': array([0., 0., 0., 0., 0., 0., 0., 0., 0., 0., 0., 0.]),\n",
              "  'logno': 16,\n",
              "  'range': 524287.0,\n",
              "  'scanno': 16,\n",
              "  'unit': 107 (FIFF_UNIT_V),\n",
              "  'unit_mul': 0.0},\n",
              " {'cal': 16777215.0,\n",
              "  'ch_name': 'A17',\n",
              "  'coil_type': 1 (FIFFV_COIL_EEG),\n",
              "  'coord_frame': 4 (FIFFV_COORD_HEAD),\n",
              "  'kind': 2 (FIFFV_EEG_CH),\n",
              "  'loc': array([0., 0., 0., 0., 0., 0., 0., 0., 0., 0., 0., 0.]),\n",
              "  'logno': 17,\n",
              "  'range': 524287.0,\n",
              "  'scanno': 17,\n",
              "  'unit': 107 (FIFF_UNIT_V),\n",
              "  'unit_mul': 0.0},\n",
              " {'cal': 16777215.0,\n",
              "  'ch_name': 'A18',\n",
              "  'coil_type': 1 (FIFFV_COIL_EEG),\n",
              "  'coord_frame': 4 (FIFFV_COORD_HEAD),\n",
              "  'kind': 2 (FIFFV_EEG_CH),\n",
              "  'loc': array([0., 0., 0., 0., 0., 0., 0., 0., 0., 0., 0., 0.]),\n",
              "  'logno': 18,\n",
              "  'range': 524287.0,\n",
              "  'scanno': 18,\n",
              "  'unit': 107 (FIFF_UNIT_V),\n",
              "  'unit_mul': 0.0},\n",
              " {'cal': 16777215.0,\n",
              "  'ch_name': 'A19',\n",
              "  'coil_type': 1 (FIFFV_COIL_EEG),\n",
              "  'coord_frame': 4 (FIFFV_COORD_HEAD),\n",
              "  'kind': 2 (FIFFV_EEG_CH),\n",
              "  'loc': array([0., 0., 0., 0., 0., 0., 0., 0., 0., 0., 0., 0.]),\n",
              "  'logno': 19,\n",
              "  'range': 524287.0,\n",
              "  'scanno': 19,\n",
              "  'unit': 107 (FIFF_UNIT_V),\n",
              "  'unit_mul': 0.0},\n",
              " {'cal': 16777215.0,\n",
              "  'ch_name': 'A20',\n",
              "  'coil_type': 1 (FIFFV_COIL_EEG),\n",
              "  'coord_frame': 4 (FIFFV_COORD_HEAD),\n",
              "  'kind': 2 (FIFFV_EEG_CH),\n",
              "  'loc': array([0., 0., 0., 0., 0., 0., 0., 0., 0., 0., 0., 0.]),\n",
              "  'logno': 20,\n",
              "  'range': 524287.0,\n",
              "  'scanno': 20,\n",
              "  'unit': 107 (FIFF_UNIT_V),\n",
              "  'unit_mul': 0.0},\n",
              " {'cal': 16777215.0,\n",
              "  'ch_name': 'A21',\n",
              "  'coil_type': 1 (FIFFV_COIL_EEG),\n",
              "  'coord_frame': 4 (FIFFV_COORD_HEAD),\n",
              "  'kind': 2 (FIFFV_EEG_CH),\n",
              "  'loc': array([0., 0., 0., 0., 0., 0., 0., 0., 0., 0., 0., 0.]),\n",
              "  'logno': 21,\n",
              "  'range': 524287.0,\n",
              "  'scanno': 21,\n",
              "  'unit': 107 (FIFF_UNIT_V),\n",
              "  'unit_mul': 0.0},\n",
              " {'cal': 16777215.0,\n",
              "  'ch_name': 'A22',\n",
              "  'coil_type': 1 (FIFFV_COIL_EEG),\n",
              "  'coord_frame': 4 (FIFFV_COORD_HEAD),\n",
              "  'kind': 2 (FIFFV_EEG_CH),\n",
              "  'loc': array([0., 0., 0., 0., 0., 0., 0., 0., 0., 0., 0., 0.]),\n",
              "  'logno': 22,\n",
              "  'range': 524287.0,\n",
              "  'scanno': 22,\n",
              "  'unit': 107 (FIFF_UNIT_V),\n",
              "  'unit_mul': 0.0},\n",
              " {'cal': 16777215.0,\n",
              "  'ch_name': 'A23',\n",
              "  'coil_type': 1 (FIFFV_COIL_EEG),\n",
              "  'coord_frame': 4 (FIFFV_COORD_HEAD),\n",
              "  'kind': 2 (FIFFV_EEG_CH),\n",
              "  'loc': array([0., 0., 0., 0., 0., 0., 0., 0., 0., 0., 0., 0.]),\n",
              "  'logno': 23,\n",
              "  'range': 524287.0,\n",
              "  'scanno': 23,\n",
              "  'unit': 107 (FIFF_UNIT_V),\n",
              "  'unit_mul': 0.0},\n",
              " {'cal': 16777215.0,\n",
              "  'ch_name': 'A24',\n",
              "  'coil_type': 1 (FIFFV_COIL_EEG),\n",
              "  'coord_frame': 4 (FIFFV_COORD_HEAD),\n",
              "  'kind': 2 (FIFFV_EEG_CH),\n",
              "  'loc': array([0., 0., 0., 0., 0., 0., 0., 0., 0., 0., 0., 0.]),\n",
              "  'logno': 24,\n",
              "  'range': 524287.0,\n",
              "  'scanno': 24,\n",
              "  'unit': 107 (FIFF_UNIT_V),\n",
              "  'unit_mul': 0.0},\n",
              " {'cal': 16777215.0,\n",
              "  'ch_name': 'A25',\n",
              "  'coil_type': 1 (FIFFV_COIL_EEG),\n",
              "  'coord_frame': 4 (FIFFV_COORD_HEAD),\n",
              "  'kind': 2 (FIFFV_EEG_CH),\n",
              "  'loc': array([0., 0., 0., 0., 0., 0., 0., 0., 0., 0., 0., 0.]),\n",
              "  'logno': 25,\n",
              "  'range': 524287.0,\n",
              "  'scanno': 25,\n",
              "  'unit': 107 (FIFF_UNIT_V),\n",
              "  'unit_mul': 0.0},\n",
              " {'cal': 16777215.0,\n",
              "  'ch_name': 'A26',\n",
              "  'coil_type': 1 (FIFFV_COIL_EEG),\n",
              "  'coord_frame': 4 (FIFFV_COORD_HEAD),\n",
              "  'kind': 2 (FIFFV_EEG_CH),\n",
              "  'loc': array([0., 0., 0., 0., 0., 0., 0., 0., 0., 0., 0., 0.]),\n",
              "  'logno': 26,\n",
              "  'range': 524287.0,\n",
              "  'scanno': 26,\n",
              "  'unit': 107 (FIFF_UNIT_V),\n",
              "  'unit_mul': 0.0},\n",
              " {'cal': 16777215.0,\n",
              "  'ch_name': 'A27',\n",
              "  'coil_type': 1 (FIFFV_COIL_EEG),\n",
              "  'coord_frame': 4 (FIFFV_COORD_HEAD),\n",
              "  'kind': 2 (FIFFV_EEG_CH),\n",
              "  'loc': array([0., 0., 0., 0., 0., 0., 0., 0., 0., 0., 0., 0.]),\n",
              "  'logno': 27,\n",
              "  'range': 524287.0,\n",
              "  'scanno': 27,\n",
              "  'unit': 107 (FIFF_UNIT_V),\n",
              "  'unit_mul': 0.0},\n",
              " {'cal': 16777215.0,\n",
              "  'ch_name': 'A28',\n",
              "  'coil_type': 1 (FIFFV_COIL_EEG),\n",
              "  'coord_frame': 4 (FIFFV_COORD_HEAD),\n",
              "  'kind': 2 (FIFFV_EEG_CH),\n",
              "  'loc': array([0., 0., 0., 0., 0., 0., 0., 0., 0., 0., 0., 0.]),\n",
              "  'logno': 28,\n",
              "  'range': 524287.0,\n",
              "  'scanno': 28,\n",
              "  'unit': 107 (FIFF_UNIT_V),\n",
              "  'unit_mul': 0.0},\n",
              " {'cal': 16777215.0,\n",
              "  'ch_name': 'A29',\n",
              "  'coil_type': 1 (FIFFV_COIL_EEG),\n",
              "  'coord_frame': 4 (FIFFV_COORD_HEAD),\n",
              "  'kind': 2 (FIFFV_EEG_CH),\n",
              "  'loc': array([0., 0., 0., 0., 0., 0., 0., 0., 0., 0., 0., 0.]),\n",
              "  'logno': 29,\n",
              "  'range': 524287.0,\n",
              "  'scanno': 29,\n",
              "  'unit': 107 (FIFF_UNIT_V),\n",
              "  'unit_mul': 0.0},\n",
              " {'cal': 16777215.0,\n",
              "  'ch_name': 'A30',\n",
              "  'coil_type': 1 (FIFFV_COIL_EEG),\n",
              "  'coord_frame': 4 (FIFFV_COORD_HEAD),\n",
              "  'kind': 2 (FIFFV_EEG_CH),\n",
              "  'loc': array([0., 0., 0., 0., 0., 0., 0., 0., 0., 0., 0., 0.]),\n",
              "  'logno': 30,\n",
              "  'range': 524287.0,\n",
              "  'scanno': 30,\n",
              "  'unit': 107 (FIFF_UNIT_V),\n",
              "  'unit_mul': 0.0},\n",
              " {'cal': 16777215.0,\n",
              "  'ch_name': 'A31',\n",
              "  'coil_type': 1 (FIFFV_COIL_EEG),\n",
              "  'coord_frame': 4 (FIFFV_COORD_HEAD),\n",
              "  'kind': 2 (FIFFV_EEG_CH),\n",
              "  'loc': array([0., 0., 0., 0., 0., 0., 0., 0., 0., 0., 0., 0.]),\n",
              "  'logno': 31,\n",
              "  'range': 524287.0,\n",
              "  'scanno': 31,\n",
              "  'unit': 107 (FIFF_UNIT_V),\n",
              "  'unit_mul': 0.0},\n",
              " {'cal': 16777215.0,\n",
              "  'ch_name': 'A32',\n",
              "  'coil_type': 1 (FIFFV_COIL_EEG),\n",
              "  'coord_frame': 4 (FIFFV_COORD_HEAD),\n",
              "  'kind': 2 (FIFFV_EEG_CH),\n",
              "  'loc': array([0., 0., 0., 0., 0., 0., 0., 0., 0., 0., 0., 0.]),\n",
              "  'logno': 32,\n",
              "  'range': 524287.0,\n",
              "  'scanno': 32,\n",
              "  'unit': 107 (FIFF_UNIT_V),\n",
              "  'unit_mul': 0.0},\n",
              " {'cal': 16777215.0,\n",
              "  'ch_name': 'B1',\n",
              "  'coil_type': 1 (FIFFV_COIL_EEG),\n",
              "  'coord_frame': 4 (FIFFV_COORD_HEAD),\n",
              "  'kind': 2 (FIFFV_EEG_CH),\n",
              "  'loc': array([0., 0., 0., 0., 0., 0., 0., 0., 0., 0., 0., 0.]),\n",
              "  'logno': 33,\n",
              "  'range': 524287.0,\n",
              "  'scanno': 33,\n",
              "  'unit': 107 (FIFF_UNIT_V),\n",
              "  'unit_mul': 0.0},\n",
              " {'cal': 16777215.0,\n",
              "  'ch_name': 'B2',\n",
              "  'coil_type': 1 (FIFFV_COIL_EEG),\n",
              "  'coord_frame': 4 (FIFFV_COORD_HEAD),\n",
              "  'kind': 2 (FIFFV_EEG_CH),\n",
              "  'loc': array([0., 0., 0., 0., 0., 0., 0., 0., 0., 0., 0., 0.]),\n",
              "  'logno': 34,\n",
              "  'range': 524287.0,\n",
              "  'scanno': 34,\n",
              "  'unit': 107 (FIFF_UNIT_V),\n",
              "  'unit_mul': 0.0},\n",
              " {'cal': 16777215.0,\n",
              "  'ch_name': 'B3',\n",
              "  'coil_type': 1 (FIFFV_COIL_EEG),\n",
              "  'coord_frame': 4 (FIFFV_COORD_HEAD),\n",
              "  'kind': 2 (FIFFV_EEG_CH),\n",
              "  'loc': array([0., 0., 0., 0., 0., 0., 0., 0., 0., 0., 0., 0.]),\n",
              "  'logno': 35,\n",
              "  'range': 524287.0,\n",
              "  'scanno': 35,\n",
              "  'unit': 107 (FIFF_UNIT_V),\n",
              "  'unit_mul': 0.0},\n",
              " {'cal': 16777215.0,\n",
              "  'ch_name': 'B4',\n",
              "  'coil_type': 1 (FIFFV_COIL_EEG),\n",
              "  'coord_frame': 4 (FIFFV_COORD_HEAD),\n",
              "  'kind': 2 (FIFFV_EEG_CH),\n",
              "  'loc': array([0., 0., 0., 0., 0., 0., 0., 0., 0., 0., 0., 0.]),\n",
              "  'logno': 36,\n",
              "  'range': 524287.0,\n",
              "  'scanno': 36,\n",
              "  'unit': 107 (FIFF_UNIT_V),\n",
              "  'unit_mul': 0.0},\n",
              " {'cal': 16777215.0,\n",
              "  'ch_name': 'B5',\n",
              "  'coil_type': 1 (FIFFV_COIL_EEG),\n",
              "  'coord_frame': 4 (FIFFV_COORD_HEAD),\n",
              "  'kind': 2 (FIFFV_EEG_CH),\n",
              "  'loc': array([0., 0., 0., 0., 0., 0., 0., 0., 0., 0., 0., 0.]),\n",
              "  'logno': 37,\n",
              "  'range': 524287.0,\n",
              "  'scanno': 37,\n",
              "  'unit': 107 (FIFF_UNIT_V),\n",
              "  'unit_mul': 0.0},\n",
              " {'cal': 16777215.0,\n",
              "  'ch_name': 'B6',\n",
              "  'coil_type': 1 (FIFFV_COIL_EEG),\n",
              "  'coord_frame': 4 (FIFFV_COORD_HEAD),\n",
              "  'kind': 2 (FIFFV_EEG_CH),\n",
              "  'loc': array([0., 0., 0., 0., 0., 0., 0., 0., 0., 0., 0., 0.]),\n",
              "  'logno': 38,\n",
              "  'range': 524287.0,\n",
              "  'scanno': 38,\n",
              "  'unit': 107 (FIFF_UNIT_V),\n",
              "  'unit_mul': 0.0},\n",
              " {'cal': 16777215.0,\n",
              "  'ch_name': 'B7',\n",
              "  'coil_type': 1 (FIFFV_COIL_EEG),\n",
              "  'coord_frame': 4 (FIFFV_COORD_HEAD),\n",
              "  'kind': 2 (FIFFV_EEG_CH),\n",
              "  'loc': array([0., 0., 0., 0., 0., 0., 0., 0., 0., 0., 0., 0.]),\n",
              "  'logno': 39,\n",
              "  'range': 524287.0,\n",
              "  'scanno': 39,\n",
              "  'unit': 107 (FIFF_UNIT_V),\n",
              "  'unit_mul': 0.0},\n",
              " {'cal': 16777215.0,\n",
              "  'ch_name': 'B8',\n",
              "  'coil_type': 1 (FIFFV_COIL_EEG),\n",
              "  'coord_frame': 4 (FIFFV_COORD_HEAD),\n",
              "  'kind': 2 (FIFFV_EEG_CH),\n",
              "  'loc': array([0., 0., 0., 0., 0., 0., 0., 0., 0., 0., 0., 0.]),\n",
              "  'logno': 40,\n",
              "  'range': 524287.0,\n",
              "  'scanno': 40,\n",
              "  'unit': 107 (FIFF_UNIT_V),\n",
              "  'unit_mul': 0.0},\n",
              " {'cal': 16777215.0,\n",
              "  'ch_name': 'B9',\n",
              "  'coil_type': 1 (FIFFV_COIL_EEG),\n",
              "  'coord_frame': 4 (FIFFV_COORD_HEAD),\n",
              "  'kind': 2 (FIFFV_EEG_CH),\n",
              "  'loc': array([0., 0., 0., 0., 0., 0., 0., 0., 0., 0., 0., 0.]),\n",
              "  'logno': 41,\n",
              "  'range': 524287.0,\n",
              "  'scanno': 41,\n",
              "  'unit': 107 (FIFF_UNIT_V),\n",
              "  'unit_mul': 0.0},\n",
              " {'cal': 16777215.0,\n",
              "  'ch_name': 'B10',\n",
              "  'coil_type': 1 (FIFFV_COIL_EEG),\n",
              "  'coord_frame': 4 (FIFFV_COORD_HEAD),\n",
              "  'kind': 2 (FIFFV_EEG_CH),\n",
              "  'loc': array([0., 0., 0., 0., 0., 0., 0., 0., 0., 0., 0., 0.]),\n",
              "  'logno': 42,\n",
              "  'range': 524287.0,\n",
              "  'scanno': 42,\n",
              "  'unit': 107 (FIFF_UNIT_V),\n",
              "  'unit_mul': 0.0},\n",
              " {'cal': 16777215.0,\n",
              "  'ch_name': 'B11',\n",
              "  'coil_type': 1 (FIFFV_COIL_EEG),\n",
              "  'coord_frame': 4 (FIFFV_COORD_HEAD),\n",
              "  'kind': 2 (FIFFV_EEG_CH),\n",
              "  'loc': array([0., 0., 0., 0., 0., 0., 0., 0., 0., 0., 0., 0.]),\n",
              "  'logno': 43,\n",
              "  'range': 524287.0,\n",
              "  'scanno': 43,\n",
              "  'unit': 107 (FIFF_UNIT_V),\n",
              "  'unit_mul': 0.0},\n",
              " {'cal': 16777215.0,\n",
              "  'ch_name': 'B12',\n",
              "  'coil_type': 1 (FIFFV_COIL_EEG),\n",
              "  'coord_frame': 4 (FIFFV_COORD_HEAD),\n",
              "  'kind': 2 (FIFFV_EEG_CH),\n",
              "  'loc': array([0., 0., 0., 0., 0., 0., 0., 0., 0., 0., 0., 0.]),\n",
              "  'logno': 44,\n",
              "  'range': 524287.0,\n",
              "  'scanno': 44,\n",
              "  'unit': 107 (FIFF_UNIT_V),\n",
              "  'unit_mul': 0.0},\n",
              " {'cal': 16777215.0,\n",
              "  'ch_name': 'B13',\n",
              "  'coil_type': 1 (FIFFV_COIL_EEG),\n",
              "  'coord_frame': 4 (FIFFV_COORD_HEAD),\n",
              "  'kind': 2 (FIFFV_EEG_CH),\n",
              "  'loc': array([0., 0., 0., 0., 0., 0., 0., 0., 0., 0., 0., 0.]),\n",
              "  'logno': 45,\n",
              "  'range': 524287.0,\n",
              "  'scanno': 45,\n",
              "  'unit': 107 (FIFF_UNIT_V),\n",
              "  'unit_mul': 0.0},\n",
              " {'cal': 16777215.0,\n",
              "  'ch_name': 'B14',\n",
              "  'coil_type': 1 (FIFFV_COIL_EEG),\n",
              "  'coord_frame': 4 (FIFFV_COORD_HEAD),\n",
              "  'kind': 2 (FIFFV_EEG_CH),\n",
              "  'loc': array([0., 0., 0., 0., 0., 0., 0., 0., 0., 0., 0., 0.]),\n",
              "  'logno': 46,\n",
              "  'range': 524287.0,\n",
              "  'scanno': 46,\n",
              "  'unit': 107 (FIFF_UNIT_V),\n",
              "  'unit_mul': 0.0},\n",
              " {'cal': 16777215.0,\n",
              "  'ch_name': 'B15',\n",
              "  'coil_type': 1 (FIFFV_COIL_EEG),\n",
              "  'coord_frame': 4 (FIFFV_COORD_HEAD),\n",
              "  'kind': 2 (FIFFV_EEG_CH),\n",
              "  'loc': array([0., 0., 0., 0., 0., 0., 0., 0., 0., 0., 0., 0.]),\n",
              "  'logno': 47,\n",
              "  'range': 524287.0,\n",
              "  'scanno': 47,\n",
              "  'unit': 107 (FIFF_UNIT_V),\n",
              "  'unit_mul': 0.0},\n",
              " {'cal': 16777215.0,\n",
              "  'ch_name': 'B16',\n",
              "  'coil_type': 1 (FIFFV_COIL_EEG),\n",
              "  'coord_frame': 4 (FIFFV_COORD_HEAD),\n",
              "  'kind': 2 (FIFFV_EEG_CH),\n",
              "  'loc': array([0., 0., 0., 0., 0., 0., 0., 0., 0., 0., 0., 0.]),\n",
              "  'logno': 48,\n",
              "  'range': 524287.0,\n",
              "  'scanno': 48,\n",
              "  'unit': 107 (FIFF_UNIT_V),\n",
              "  'unit_mul': 0.0},\n",
              " {'cal': 16777215.0,\n",
              "  'ch_name': 'B17',\n",
              "  'coil_type': 1 (FIFFV_COIL_EEG),\n",
              "  'coord_frame': 4 (FIFFV_COORD_HEAD),\n",
              "  'kind': 2 (FIFFV_EEG_CH),\n",
              "  'loc': array([0., 0., 0., 0., 0., 0., 0., 0., 0., 0., 0., 0.]),\n",
              "  'logno': 49,\n",
              "  'range': 524287.0,\n",
              "  'scanno': 49,\n",
              "  'unit': 107 (FIFF_UNIT_V),\n",
              "  'unit_mul': 0.0},\n",
              " {'cal': 16777215.0,\n",
              "  'ch_name': 'B18',\n",
              "  'coil_type': 1 (FIFFV_COIL_EEG),\n",
              "  'coord_frame': 4 (FIFFV_COORD_HEAD),\n",
              "  'kind': 2 (FIFFV_EEG_CH),\n",
              "  'loc': array([0., 0., 0., 0., 0., 0., 0., 0., 0., 0., 0., 0.]),\n",
              "  'logno': 50,\n",
              "  'range': 524287.0,\n",
              "  'scanno': 50,\n",
              "  'unit': 107 (FIFF_UNIT_V),\n",
              "  'unit_mul': 0.0},\n",
              " {'cal': 16777215.0,\n",
              "  'ch_name': 'B19',\n",
              "  'coil_type': 1 (FIFFV_COIL_EEG),\n",
              "  'coord_frame': 4 (FIFFV_COORD_HEAD),\n",
              "  'kind': 2 (FIFFV_EEG_CH),\n",
              "  'loc': array([0., 0., 0., 0., 0., 0., 0., 0., 0., 0., 0., 0.]),\n",
              "  'logno': 51,\n",
              "  'range': 524287.0,\n",
              "  'scanno': 51,\n",
              "  'unit': 107 (FIFF_UNIT_V),\n",
              "  'unit_mul': 0.0},\n",
              " {'cal': 16777215.0,\n",
              "  'ch_name': 'B20',\n",
              "  'coil_type': 1 (FIFFV_COIL_EEG),\n",
              "  'coord_frame': 4 (FIFFV_COORD_HEAD),\n",
              "  'kind': 2 (FIFFV_EEG_CH),\n",
              "  'loc': array([0., 0., 0., 0., 0., 0., 0., 0., 0., 0., 0., 0.]),\n",
              "  'logno': 52,\n",
              "  'range': 524287.0,\n",
              "  'scanno': 52,\n",
              "  'unit': 107 (FIFF_UNIT_V),\n",
              "  'unit_mul': 0.0},\n",
              " {'cal': 16777215.0,\n",
              "  'ch_name': 'B21',\n",
              "  'coil_type': 1 (FIFFV_COIL_EEG),\n",
              "  'coord_frame': 4 (FIFFV_COORD_HEAD),\n",
              "  'kind': 2 (FIFFV_EEG_CH),\n",
              "  'loc': array([0., 0., 0., 0., 0., 0., 0., 0., 0., 0., 0., 0.]),\n",
              "  'logno': 53,\n",
              "  'range': 524287.0,\n",
              "  'scanno': 53,\n",
              "  'unit': 107 (FIFF_UNIT_V),\n",
              "  'unit_mul': 0.0},\n",
              " {'cal': 16777215.0,\n",
              "  'ch_name': 'B22',\n",
              "  'coil_type': 1 (FIFFV_COIL_EEG),\n",
              "  'coord_frame': 4 (FIFFV_COORD_HEAD),\n",
              "  'kind': 2 (FIFFV_EEG_CH),\n",
              "  'loc': array([0., 0., 0., 0., 0., 0., 0., 0., 0., 0., 0., 0.]),\n",
              "  'logno': 54,\n",
              "  'range': 524287.0,\n",
              "  'scanno': 54,\n",
              "  'unit': 107 (FIFF_UNIT_V),\n",
              "  'unit_mul': 0.0},\n",
              " {'cal': 16777215.0,\n",
              "  'ch_name': 'B23',\n",
              "  'coil_type': 1 (FIFFV_COIL_EEG),\n",
              "  'coord_frame': 4 (FIFFV_COORD_HEAD),\n",
              "  'kind': 2 (FIFFV_EEG_CH),\n",
              "  'loc': array([0., 0., 0., 0., 0., 0., 0., 0., 0., 0., 0., 0.]),\n",
              "  'logno': 55,\n",
              "  'range': 524287.0,\n",
              "  'scanno': 55,\n",
              "  'unit': 107 (FIFF_UNIT_V),\n",
              "  'unit_mul': 0.0},\n",
              " {'cal': 16777215.0,\n",
              "  'ch_name': 'B24',\n",
              "  'coil_type': 1 (FIFFV_COIL_EEG),\n",
              "  'coord_frame': 4 (FIFFV_COORD_HEAD),\n",
              "  'kind': 2 (FIFFV_EEG_CH),\n",
              "  'loc': array([0., 0., 0., 0., 0., 0., 0., 0., 0., 0., 0., 0.]),\n",
              "  'logno': 56,\n",
              "  'range': 524287.0,\n",
              "  'scanno': 56,\n",
              "  'unit': 107 (FIFF_UNIT_V),\n",
              "  'unit_mul': 0.0},\n",
              " {'cal': 16777215.0,\n",
              "  'ch_name': 'B25',\n",
              "  'coil_type': 1 (FIFFV_COIL_EEG),\n",
              "  'coord_frame': 4 (FIFFV_COORD_HEAD),\n",
              "  'kind': 2 (FIFFV_EEG_CH),\n",
              "  'loc': array([0., 0., 0., 0., 0., 0., 0., 0., 0., 0., 0., 0.]),\n",
              "  'logno': 57,\n",
              "  'range': 524287.0,\n",
              "  'scanno': 57,\n",
              "  'unit': 107 (FIFF_UNIT_V),\n",
              "  'unit_mul': 0.0},\n",
              " {'cal': 16777215.0,\n",
              "  'ch_name': 'B26',\n",
              "  'coil_type': 1 (FIFFV_COIL_EEG),\n",
              "  'coord_frame': 4 (FIFFV_COORD_HEAD),\n",
              "  'kind': 2 (FIFFV_EEG_CH),\n",
              "  'loc': array([0., 0., 0., 0., 0., 0., 0., 0., 0., 0., 0., 0.]),\n",
              "  'logno': 58,\n",
              "  'range': 524287.0,\n",
              "  'scanno': 58,\n",
              "  'unit': 107 (FIFF_UNIT_V),\n",
              "  'unit_mul': 0.0},\n",
              " {'cal': 16777215.0,\n",
              "  'ch_name': 'B27',\n",
              "  'coil_type': 1 (FIFFV_COIL_EEG),\n",
              "  'coord_frame': 4 (FIFFV_COORD_HEAD),\n",
              "  'kind': 2 (FIFFV_EEG_CH),\n",
              "  'loc': array([0., 0., 0., 0., 0., 0., 0., 0., 0., 0., 0., 0.]),\n",
              "  'logno': 59,\n",
              "  'range': 524287.0,\n",
              "  'scanno': 59,\n",
              "  'unit': 107 (FIFF_UNIT_V),\n",
              "  'unit_mul': 0.0},\n",
              " {'cal': 16777215.0,\n",
              "  'ch_name': 'B28',\n",
              "  'coil_type': 1 (FIFFV_COIL_EEG),\n",
              "  'coord_frame': 4 (FIFFV_COORD_HEAD),\n",
              "  'kind': 2 (FIFFV_EEG_CH),\n",
              "  'loc': array([0., 0., 0., 0., 0., 0., 0., 0., 0., 0., 0., 0.]),\n",
              "  'logno': 60,\n",
              "  'range': 524287.0,\n",
              "  'scanno': 60,\n",
              "  'unit': 107 (FIFF_UNIT_V),\n",
              "  'unit_mul': 0.0},\n",
              " {'cal': 16777215.0,\n",
              "  'ch_name': 'B29',\n",
              "  'coil_type': 1 (FIFFV_COIL_EEG),\n",
              "  'coord_frame': 4 (FIFFV_COORD_HEAD),\n",
              "  'kind': 2 (FIFFV_EEG_CH),\n",
              "  'loc': array([0., 0., 0., 0., 0., 0., 0., 0., 0., 0., 0., 0.]),\n",
              "  'logno': 61,\n",
              "  'range': 524287.0,\n",
              "  'scanno': 61,\n",
              "  'unit': 107 (FIFF_UNIT_V),\n",
              "  'unit_mul': 0.0},\n",
              " {'cal': 16777215.0,\n",
              "  'ch_name': 'B30',\n",
              "  'coil_type': 1 (FIFFV_COIL_EEG),\n",
              "  'coord_frame': 4 (FIFFV_COORD_HEAD),\n",
              "  'kind': 2 (FIFFV_EEG_CH),\n",
              "  'loc': array([0., 0., 0., 0., 0., 0., 0., 0., 0., 0., 0., 0.]),\n",
              "  'logno': 62,\n",
              "  'range': 524287.0,\n",
              "  'scanno': 62,\n",
              "  'unit': 107 (FIFF_UNIT_V),\n",
              "  'unit_mul': 0.0},\n",
              " {'cal': 16777215.0,\n",
              "  'ch_name': 'B31',\n",
              "  'coil_type': 1 (FIFFV_COIL_EEG),\n",
              "  'coord_frame': 4 (FIFFV_COORD_HEAD),\n",
              "  'kind': 2 (FIFFV_EEG_CH),\n",
              "  'loc': array([0., 0., 0., 0., 0., 0., 0., 0., 0., 0., 0., 0.]),\n",
              "  'logno': 63,\n",
              "  'range': 524287.0,\n",
              "  'scanno': 63,\n",
              "  'unit': 107 (FIFF_UNIT_V),\n",
              "  'unit_mul': 0.0},\n",
              " {'cal': 16777215.0,\n",
              "  'ch_name': 'B32',\n",
              "  'coil_type': 1 (FIFFV_COIL_EEG),\n",
              "  'coord_frame': 4 (FIFFV_COORD_HEAD),\n",
              "  'kind': 2 (FIFFV_EEG_CH),\n",
              "  'loc': array([0., 0., 0., 0., 0., 0., 0., 0., 0., 0., 0., 0.]),\n",
              "  'logno': 64,\n",
              "  'range': 524287.0,\n",
              "  'scanno': 64,\n",
              "  'unit': 107 (FIFF_UNIT_V),\n",
              "  'unit_mul': 0.0},\n",
              " {'cal': 16777215.0,\n",
              "  'ch_name': 'EXG1',\n",
              "  'coil_type': 1 (FIFFV_COIL_EEG),\n",
              "  'coord_frame': 4 (FIFFV_COORD_HEAD),\n",
              "  'kind': 2 (FIFFV_EEG_CH),\n",
              "  'loc': array([0., 0., 0., 0., 0., 0., 0., 0., 0., 0., 0., 0.]),\n",
              "  'logno': 65,\n",
              "  'range': 524287.0,\n",
              "  'scanno': 65,\n",
              "  'unit': 107 (FIFF_UNIT_V),\n",
              "  'unit_mul': 0.0},\n",
              " {'cal': 16777215.0,\n",
              "  'ch_name': 'EXG2',\n",
              "  'coil_type': 1 (FIFFV_COIL_EEG),\n",
              "  'coord_frame': 4 (FIFFV_COORD_HEAD),\n",
              "  'kind': 2 (FIFFV_EEG_CH),\n",
              "  'loc': array([0., 0., 0., 0., 0., 0., 0., 0., 0., 0., 0., 0.]),\n",
              "  'logno': 66,\n",
              "  'range': 524287.0,\n",
              "  'scanno': 66,\n",
              "  'unit': 107 (FIFF_UNIT_V),\n",
              "  'unit_mul': 0.0},\n",
              " {'cal': 16777215.0,\n",
              "  'ch_name': 'EXG3',\n",
              "  'coil_type': 1 (FIFFV_COIL_EEG),\n",
              "  'coord_frame': 4 (FIFFV_COORD_HEAD),\n",
              "  'kind': 2 (FIFFV_EEG_CH),\n",
              "  'loc': array([0., 0., 0., 0., 0., 0., 0., 0., 0., 0., 0., 0.]),\n",
              "  'logno': 67,\n",
              "  'range': 524287.0,\n",
              "  'scanno': 67,\n",
              "  'unit': 107 (FIFF_UNIT_V),\n",
              "  'unit_mul': 0.0},\n",
              " {'cal': 16777215.0,\n",
              "  'ch_name': 'EXG4',\n",
              "  'coil_type': 1 (FIFFV_COIL_EEG),\n",
              "  'coord_frame': 4 (FIFFV_COORD_HEAD),\n",
              "  'kind': 2 (FIFFV_EEG_CH),\n",
              "  'loc': array([0., 0., 0., 0., 0., 0., 0., 0., 0., 0., 0., 0.]),\n",
              "  'logno': 68,\n",
              "  'range': 524287.0,\n",
              "  'scanno': 68,\n",
              "  'unit': 107 (FIFF_UNIT_V),\n",
              "  'unit_mul': 0.0},\n",
              " {'cal': 16777215.0,\n",
              "  'ch_name': 'EXG5',\n",
              "  'coil_type': 1 (FIFFV_COIL_EEG),\n",
              "  'coord_frame': 4 (FIFFV_COORD_HEAD),\n",
              "  'kind': 2 (FIFFV_EEG_CH),\n",
              "  'loc': array([0., 0., 0., 0., 0., 0., 0., 0., 0., 0., 0., 0.]),\n",
              "  'logno': 69,\n",
              "  'range': 524287.0,\n",
              "  'scanno': 69,\n",
              "  'unit': 107 (FIFF_UNIT_V),\n",
              "  'unit_mul': 0.0},\n",
              " {'cal': 16777215.0,\n",
              "  'ch_name': 'EXG6',\n",
              "  'coil_type': 1 (FIFFV_COIL_EEG),\n",
              "  'coord_frame': 4 (FIFFV_COORD_HEAD),\n",
              "  'kind': 2 (FIFFV_EEG_CH),\n",
              "  'loc': array([0., 0., 0., 0., 0., 0., 0., 0., 0., 0., 0., 0.]),\n",
              "  'logno': 70,\n",
              "  'range': 524287.0,\n",
              "  'scanno': 70,\n",
              "  'unit': 107 (FIFF_UNIT_V),\n",
              "  'unit_mul': 0.0},\n",
              " {'cal': 16777215.0,\n",
              "  'ch_name': 'EXG7',\n",
              "  'coil_type': 1 (FIFFV_COIL_EEG),\n",
              "  'coord_frame': 4 (FIFFV_COORD_HEAD),\n",
              "  'kind': 2 (FIFFV_EEG_CH),\n",
              "  'loc': array([0., 0., 0., 0., 0., 0., 0., 0., 0., 0., 0., 0.]),\n",
              "  'logno': 71,\n",
              "  'range': 524287.0,\n",
              "  'scanno': 71,\n",
              "  'unit': 107 (FIFF_UNIT_V),\n",
              "  'unit_mul': 0.0},\n",
              " {'cal': 16777215.0,\n",
              "  'ch_name': 'EXG8',\n",
              "  'coil_type': 1 (FIFFV_COIL_EEG),\n",
              "  'coord_frame': 4 (FIFFV_COORD_HEAD),\n",
              "  'kind': 2 (FIFFV_EEG_CH),\n",
              "  'loc': array([0., 0., 0., 0., 0., 0., 0., 0., 0., 0., 0., 0.]),\n",
              "  'logno': 72,\n",
              "  'range': 524287.0,\n",
              "  'scanno': 72,\n",
              "  'unit': 107 (FIFF_UNIT_V),\n",
              "  'unit_mul': 0.0},\n",
              " {'cal': 16777215.0,\n",
              "  'ch_name': 'GSR1',\n",
              "  'coil_type': 1 (FIFFV_COIL_EEG),\n",
              "  'coord_frame': 4 (FIFFV_COORD_HEAD),\n",
              "  'kind': 2 (FIFFV_EEG_CH),\n",
              "  'loc': array([0., 0., 0., 0., 0., 0., 0., 0., 0., 0., 0., 0.]),\n",
              "  'logno': 73,\n",
              "  'range': 524287.0,\n",
              "  'scanno': 73,\n",
              "  'unit': 107 (FIFF_UNIT_V),\n",
              "  'unit_mul': 0.0},\n",
              " {'cal': 16777215.0,\n",
              "  'ch_name': 'GSR2',\n",
              "  'coil_type': 1 (FIFFV_COIL_EEG),\n",
              "  'coord_frame': 4 (FIFFV_COORD_HEAD),\n",
              "  'kind': 2 (FIFFV_EEG_CH),\n",
              "  'loc': array([0., 0., 0., 0., 0., 0., 0., 0., 0., 0., 0., 0.]),\n",
              "  'logno': 74,\n",
              "  'range': 524287.0,\n",
              "  'scanno': 74,\n",
              "  'unit': 107 (FIFF_UNIT_V),\n",
              "  'unit_mul': 0.0},\n",
              " {'cal': 16777215.0,\n",
              "  'ch_name': 'Erg1',\n",
              "  'coil_type': 1 (FIFFV_COIL_EEG),\n",
              "  'coord_frame': 4 (FIFFV_COORD_HEAD),\n",
              "  'kind': 2 (FIFFV_EEG_CH),\n",
              "  'loc': array([0., 0., 0., 0., 0., 0., 0., 0., 0., 0., 0., 0.]),\n",
              "  'logno': 75,\n",
              "  'range': 4194303.0,\n",
              "  'scanno': 75,\n",
              "  'unit': 107 (FIFF_UNIT_V),\n",
              "  'unit_mul': 0.0},\n",
              " {'cal': 16777215.0,\n",
              "  'ch_name': 'Erg2',\n",
              "  'coil_type': 1 (FIFFV_COIL_EEG),\n",
              "  'coord_frame': 4 (FIFFV_COORD_HEAD),\n",
              "  'kind': 2 (FIFFV_EEG_CH),\n",
              "  'loc': array([0., 0., 0., 0., 0., 0., 0., 0., 0., 0., 0., 0.]),\n",
              "  'logno': 76,\n",
              "  'range': 4194303.0,\n",
              "  'scanno': 76,\n",
              "  'unit': 107 (FIFF_UNIT_V),\n",
              "  'unit_mul': 0.0},\n",
              " {'cal': 16777215.0,\n",
              "  'ch_name': 'Resp',\n",
              "  'coil_type': 1 (FIFFV_COIL_EEG),\n",
              "  'coord_frame': 4 (FIFFV_COORD_HEAD),\n",
              "  'kind': 2 (FIFFV_EEG_CH),\n",
              "  'loc': array([0., 0., 0., 0., 0., 0., 0., 0., 0., 0., 0., 0.]),\n",
              "  'logno': 77,\n",
              "  'range': 4194303.0,\n",
              "  'scanno': 77,\n",
              "  'unit': 107 (FIFF_UNIT_V),\n",
              "  'unit_mul': 0.0},\n",
              " {'cal': 16777215.0,\n",
              "  'ch_name': 'Plet',\n",
              "  'coil_type': 1 (FIFFV_COIL_EEG),\n",
              "  'coord_frame': 4 (FIFFV_COORD_HEAD),\n",
              "  'kind': 2 (FIFFV_EEG_CH),\n",
              "  'loc': array([0., 0., 0., 0., 0., 0., 0., 0., 0., 0., 0., 0.]),\n",
              "  'logno': 78,\n",
              "  'range': 8191875.0,\n",
              "  'scanno': 78,\n",
              "  'unit': 107 (FIFF_UNIT_V),\n",
              "  'unit_mul': 0.0},\n",
              " {'cal': 16777215.0,\n",
              "  'ch_name': 'Temp',\n",
              "  'coil_type': 1 (FIFFV_COIL_EEG),\n",
              "  'coord_frame': 4 (FIFFV_COORD_HEAD),\n",
              "  'kind': 2 (FIFFV_EEG_CH),\n",
              "  'loc': array([0., 0., 0., 0., 0., 0., 0., 0., 0., 0., 0., 0.]),\n",
              "  'logno': 79,\n",
              "  'range': 16777.0,\n",
              "  'scanno': 79,\n",
              "  'unit': 107 (FIFF_UNIT_V),\n",
              "  'unit_mul': 0.0},\n",
              " {'cal': 16777215.0,\n",
              "  'ch_name': 'Status',\n",
              "  'coil_type': 0 (FIFFV_COIL_NONE),\n",
              "  'coord_frame': 4 (FIFFV_COORD_HEAD),\n",
              "  'kind': 3 (FIFFV_STIM_CH),\n",
              "  'loc': array([0., 0., 0., 0., 0., 0., 0., 0., 0., 0., 0., 0.]),\n",
              "  'logno': 80,\n",
              "  'range': 16777215.0,\n",
              "  'scanno': 80,\n",
              "  'unit': -1 (FIFF_UNIT_NONE),\n",
              "  'unit_mul': 0.0}]"
            ]
          },
          "metadata": {
            "tags": []
          },
          "execution_count": 163
        }
      ]
    },
    {
      "cell_type": "code",
      "metadata": {
        "id": "wtBQd6r0ap9F",
        "colab_type": "code",
        "colab": {
          "base_uri": "https://localhost:8080/",
          "height": 70
        },
        "outputId": "0f93a088-c694-41b7-a368-8bcd555dd0a7"
      },
      "source": [
        "dig_loc={}\n",
        "for dictx in dig:\n",
        "  loc = dictx.get('loc')\n",
        "  dig_loc[dictx.get('ch_name')] = loc\n",
        "print(dig_loc)\n",
        "print(len(dig_loc))"
      ],
      "execution_count": 167,
      "outputs": [
        {
          "output_type": "stream",
          "text": [
            "{'A1': array([0., 0., 0., 0., 0., 0., 0., 0., 0., 0., 0., 0.]), 'A2': array([0., 0., 0., 0., 0., 0., 0., 0., 0., 0., 0., 0.]), 'A3': array([0., 0., 0., 0., 0., 0., 0., 0., 0., 0., 0., 0.]), 'A4': array([0., 0., 0., 0., 0., 0., 0., 0., 0., 0., 0., 0.]), 'A5': array([0., 0., 0., 0., 0., 0., 0., 0., 0., 0., 0., 0.]), 'A6': array([0., 0., 0., 0., 0., 0., 0., 0., 0., 0., 0., 0.]), 'A7': array([0., 0., 0., 0., 0., 0., 0., 0., 0., 0., 0., 0.]), 'A8': array([0., 0., 0., 0., 0., 0., 0., 0., 0., 0., 0., 0.]), 'A9': array([0., 0., 0., 0., 0., 0., 0., 0., 0., 0., 0., 0.]), 'A10': array([0., 0., 0., 0., 0., 0., 0., 0., 0., 0., 0., 0.]), 'A11': array([0., 0., 0., 0., 0., 0., 0., 0., 0., 0., 0., 0.]), 'A12': array([0., 0., 0., 0., 0., 0., 0., 0., 0., 0., 0., 0.]), 'A13': array([0., 0., 0., 0., 0., 0., 0., 0., 0., 0., 0., 0.]), 'A14': array([0., 0., 0., 0., 0., 0., 0., 0., 0., 0., 0., 0.]), 'A15': array([0., 0., 0., 0., 0., 0., 0., 0., 0., 0., 0., 0.]), 'A16': array([0., 0., 0., 0., 0., 0., 0., 0., 0., 0., 0., 0.]), 'A17': array([0., 0., 0., 0., 0., 0., 0., 0., 0., 0., 0., 0.]), 'A18': array([0., 0., 0., 0., 0., 0., 0., 0., 0., 0., 0., 0.]), 'A19': array([0., 0., 0., 0., 0., 0., 0., 0., 0., 0., 0., 0.]), 'A20': array([0., 0., 0., 0., 0., 0., 0., 0., 0., 0., 0., 0.]), 'A21': array([0., 0., 0., 0., 0., 0., 0., 0., 0., 0., 0., 0.]), 'A22': array([0., 0., 0., 0., 0., 0., 0., 0., 0., 0., 0., 0.]), 'A23': array([0., 0., 0., 0., 0., 0., 0., 0., 0., 0., 0., 0.]), 'A24': array([0., 0., 0., 0., 0., 0., 0., 0., 0., 0., 0., 0.]), 'A25': array([0., 0., 0., 0., 0., 0., 0., 0., 0., 0., 0., 0.]), 'A26': array([0., 0., 0., 0., 0., 0., 0., 0., 0., 0., 0., 0.]), 'A27': array([0., 0., 0., 0., 0., 0., 0., 0., 0., 0., 0., 0.]), 'A28': array([0., 0., 0., 0., 0., 0., 0., 0., 0., 0., 0., 0.]), 'A29': array([0., 0., 0., 0., 0., 0., 0., 0., 0., 0., 0., 0.]), 'A30': array([0., 0., 0., 0., 0., 0., 0., 0., 0., 0., 0., 0.]), 'A31': array([0., 0., 0., 0., 0., 0., 0., 0., 0., 0., 0., 0.]), 'A32': array([0., 0., 0., 0., 0., 0., 0., 0., 0., 0., 0., 0.]), 'B1': array([0., 0., 0., 0., 0., 0., 0., 0., 0., 0., 0., 0.]), 'B2': array([0., 0., 0., 0., 0., 0., 0., 0., 0., 0., 0., 0.]), 'B3': array([0., 0., 0., 0., 0., 0., 0., 0., 0., 0., 0., 0.]), 'B4': array([0., 0., 0., 0., 0., 0., 0., 0., 0., 0., 0., 0.]), 'B5': array([0., 0., 0., 0., 0., 0., 0., 0., 0., 0., 0., 0.]), 'B6': array([0., 0., 0., 0., 0., 0., 0., 0., 0., 0., 0., 0.]), 'B7': array([0., 0., 0., 0., 0., 0., 0., 0., 0., 0., 0., 0.]), 'B8': array([0., 0., 0., 0., 0., 0., 0., 0., 0., 0., 0., 0.]), 'B9': array([0., 0., 0., 0., 0., 0., 0., 0., 0., 0., 0., 0.]), 'B10': array([0., 0., 0., 0., 0., 0., 0., 0., 0., 0., 0., 0.]), 'B11': array([0., 0., 0., 0., 0., 0., 0., 0., 0., 0., 0., 0.]), 'B12': array([0., 0., 0., 0., 0., 0., 0., 0., 0., 0., 0., 0.]), 'B13': array([0., 0., 0., 0., 0., 0., 0., 0., 0., 0., 0., 0.]), 'B14': array([0., 0., 0., 0., 0., 0., 0., 0., 0., 0., 0., 0.]), 'B15': array([0., 0., 0., 0., 0., 0., 0., 0., 0., 0., 0., 0.]), 'B16': array([0., 0., 0., 0., 0., 0., 0., 0., 0., 0., 0., 0.]), 'B17': array([0., 0., 0., 0., 0., 0., 0., 0., 0., 0., 0., 0.]), 'B18': array([0., 0., 0., 0., 0., 0., 0., 0., 0., 0., 0., 0.]), 'B19': array([0., 0., 0., 0., 0., 0., 0., 0., 0., 0., 0., 0.]), 'B20': array([0., 0., 0., 0., 0., 0., 0., 0., 0., 0., 0., 0.]), 'B21': array([0., 0., 0., 0., 0., 0., 0., 0., 0., 0., 0., 0.]), 'B22': array([0., 0., 0., 0., 0., 0., 0., 0., 0., 0., 0., 0.]), 'B23': array([0., 0., 0., 0., 0., 0., 0., 0., 0., 0., 0., 0.]), 'B24': array([0., 0., 0., 0., 0., 0., 0., 0., 0., 0., 0., 0.]), 'B25': array([0., 0., 0., 0., 0., 0., 0., 0., 0., 0., 0., 0.]), 'B26': array([0., 0., 0., 0., 0., 0., 0., 0., 0., 0., 0., 0.]), 'B27': array([0., 0., 0., 0., 0., 0., 0., 0., 0., 0., 0., 0.]), 'B28': array([0., 0., 0., 0., 0., 0., 0., 0., 0., 0., 0., 0.]), 'B29': array([0., 0., 0., 0., 0., 0., 0., 0., 0., 0., 0., 0.]), 'B30': array([0., 0., 0., 0., 0., 0., 0., 0., 0., 0., 0., 0.]), 'B31': array([0., 0., 0., 0., 0., 0., 0., 0., 0., 0., 0., 0.]), 'B32': array([0., 0., 0., 0., 0., 0., 0., 0., 0., 0., 0., 0.]), 'EXG1': array([0., 0., 0., 0., 0., 0., 0., 0., 0., 0., 0., 0.]), 'EXG2': array([0., 0., 0., 0., 0., 0., 0., 0., 0., 0., 0., 0.]), 'EXG3': array([0., 0., 0., 0., 0., 0., 0., 0., 0., 0., 0., 0.]), 'EXG4': array([0., 0., 0., 0., 0., 0., 0., 0., 0., 0., 0., 0.]), 'EXG5': array([0., 0., 0., 0., 0., 0., 0., 0., 0., 0., 0., 0.]), 'EXG6': array([0., 0., 0., 0., 0., 0., 0., 0., 0., 0., 0., 0.]), 'EXG7': array([0., 0., 0., 0., 0., 0., 0., 0., 0., 0., 0., 0.]), 'EXG8': array([0., 0., 0., 0., 0., 0., 0., 0., 0., 0., 0., 0.]), 'GSR1': array([0., 0., 0., 0., 0., 0., 0., 0., 0., 0., 0., 0.]), 'GSR2': array([0., 0., 0., 0., 0., 0., 0., 0., 0., 0., 0., 0.]), 'Erg1': array([0., 0., 0., 0., 0., 0., 0., 0., 0., 0., 0., 0.]), 'Erg2': array([0., 0., 0., 0., 0., 0., 0., 0., 0., 0., 0., 0.]), 'Resp': array([0., 0., 0., 0., 0., 0., 0., 0., 0., 0., 0., 0.]), 'Plet': array([0., 0., 0., 0., 0., 0., 0., 0., 0., 0., 0., 0.]), 'Temp': array([0., 0., 0., 0., 0., 0., 0., 0., 0., 0., 0., 0.]), 'Status': array([0., 0., 0., 0., 0., 0., 0., 0., 0., 0., 0., 0.])}\n",
            "80\n"
          ],
          "name": "stdout"
        }
      ]
    },
    {
      "cell_type": "code",
      "metadata": {
        "id": "mMkj52acIENr",
        "colab_type": "code",
        "colab": {}
      },
      "source": [
        "montage = mne.channels.read_dig_montage(point_names=['A1', 'A2', 'A3', 'A4', 'A5', 'A6', 'A7', 'A8', 'A9', 'A10', 'A11', 'A12', 'A13', 'A14', 'A15', 'A16', 'A17', 'A18', 'A19', 'A20', 'A21', 'A22', 'A23', 'A24', 'A25', 'A26', 'A27', 'A28', 'A29', 'A30', 'A31', 'A32', 'B1', 'B2', 'B3', 'B4', 'B5', 'B6', 'B7', 'B8', 'B9', 'B10', 'B11', 'B12', 'B13', 'B14', 'B15', 'B16', 'B17', 'B18', 'B19', 'B20', 'B21', 'B22', 'B23', 'B24', 'B25', 'B26', 'B27', 'B28', 'B29', 'B30', 'B31', 'B32', 'EXG1', 'EXG2', 'EXG3', 'EXG4', 'EXG5', 'EXG6', 'EXG7', 'EXG8', 'GSR1', 'GSR2', 'Erg1', 'Erg2', 'Resp', 'Plet', 'Temp','Status'], dig_ch_pos=dig_loc)\n",
        "raw.rename_channels(mapping= lambda name: name.replace(\".\",\"\"))\n",
        "raw.set_montage(montage)"
      ],
      "execution_count": null,
      "outputs": []
    },
    {
      "cell_type": "code",
      "metadata": {
        "id": "0r1HWYqvIEL4",
        "colab_type": "code",
        "colab": {
          "base_uri": "https://localhost:8080/",
          "height": 154
        },
        "outputId": "6fa94502-0bb8-4693-f969-739f1518597e"
      },
      "source": [
        "from mne.preprocessing import ICA\n",
        "num_components = 15 #play around with this number to get components that seem to represent the actual brain activations well\n",
        "ica = ICA(n_components=num_components, method='fastica')\n",
        "ica.fit(raw)"
      ],
      "execution_count": 148,
      "outputs": [
        {
          "output_type": "stream",
          "text": [
            "Fitting ICA to data using 79 channels (please be patient, this may take a while)\n",
            "Inferring max_pca_components from picks\n",
            "Selecting by number: 15 components\n"
          ],
          "name": "stdout"
        },
        {
          "output_type": "stream",
          "text": [
            "/usr/local/lib/python3.6/dist-packages/sklearn/decomposition/_fastica.py:119: ConvergenceWarning: FastICA did not converge. Consider increasing tolerance or the maximum number of iterations.\n",
            "  ConvergenceWarning)\n"
          ],
          "name": "stderr"
        },
        {
          "output_type": "stream",
          "text": [
            "Fitting ICA took 97.7s.\n"
          ],
          "name": "stdout"
        },
        {
          "output_type": "execute_result",
          "data": {
            "text/plain": [
              "<ICA  |  raw data decomposition, fit (fastica): 696576 samples, 15 components, channels used: \"eeg\">"
            ]
          },
          "metadata": {
            "tags": []
          },
          "execution_count": 148
        }
      ]
    },
    {
      "cell_type": "code",
      "metadata": {
        "id": "oYLEmWDIhIFF",
        "colab_type": "code",
        "colab": {
          "base_uri": "https://localhost:8080/",
          "height": 302
        },
        "outputId": "5b07eef0-102c-4491-96e6-e297a068c506"
      },
      "source": [
        "#Welch like Analysis\n",
        "\n",
        "mne.time_frequency.psd_welch(raw, fmin=0, fmax=30, tmin=None, tmax=None, n_fft=256, n_overlap=0, n_per_seg=None, picks=None, proj=False, n_jobs=1, reject_by_annotation=True, average='mean')"
      ],
      "execution_count": 172,
      "outputs": [
        {
          "output_type": "stream",
          "text": [
            "Effective window size : 1.000 (s)\n"
          ],
          "name": "stdout"
        },
        {
          "output_type": "execute_result",
          "data": {
            "text/plain": [
              "(array([[9.63175045e-12, 1.21354084e-10, 1.79313490e-11, ...,\n",
              "         3.24227855e-15, 3.03060607e-15, 2.83993128e-15],\n",
              "        [1.37780584e-11, 1.63039698e-10, 2.22532880e-11, ...,\n",
              "         4.04838432e-15, 3.78503732e-15, 3.54768008e-15],\n",
              "        [5.38319197e-12, 5.25771385e-11, 1.04858650e-11, ...,\n",
              "         1.20631760e-15, 1.12525204e-15, 1.05255251e-15],\n",
              "        ...,\n",
              "        [1.46898478e-08, 1.81291357e-07, 2.62314378e-08, ...,\n",
              "         4.54173022e-12, 4.24938533e-12, 3.98545564e-12],\n",
              "        [3.52746465e-14, 2.66459195e-13, 3.27297028e-13, ...,\n",
              "         9.54933406e-18, 8.72921483e-18, 8.01926768e-18],\n",
              "        [6.08972208e-36, 1.04279736e-35, 4.69609895e-36, ...,\n",
              "         2.22876759e-36, 2.90667150e-36, 2.72483701e-36]]),\n",
              " array([ 0.,  1.,  2.,  3.,  4.,  5.,  6.,  7.,  8.,  9., 10., 11., 12.,\n",
              "        13., 14., 15., 16., 17., 18., 19., 20., 21., 22., 23., 24., 25.,\n",
              "        26., 27., 28., 29., 30.]))"
            ]
          },
          "metadata": {
            "tags": []
          },
          "execution_count": 172
        }
      ]
    },
    {
      "cell_type": "code",
      "metadata": {
        "id": "G-9LXxjPhIAO",
        "colab_type": "code",
        "colab": {
          "base_uri": "https://localhost:8080/",
          "height": 437
        },
        "outputId": "a66b0bf8-c6c8-42e7-d847-a75f59bac2e6"
      },
      "source": [
        "#Morlet wavelet decomposition\n",
        "\n",
        "mne.time_frequency.morlet(sfreq=256, freqs= (1,30), n_cycles=3, sigma=None, zero_mean=False)"
      ],
      "execution_count": 178,
      "outputs": [
        {
          "output_type": "execute_result",
          "data": {
            "text/plain": [
              "[array([-2.72850312e-07-2.35362298e-07j, -2.78127938e-07-2.52080469e-07j,\n",
              "        -2.83177679e-07-2.69607563e-07j, ...,\n",
              "        -2.83177679e-07+2.69607563e-07j, -2.78127938e-07+2.52080469e-07j,\n",
              "        -2.72850312e-07+2.35362298e-07j]),\n",
              " array([-1.71245301e-06-2.56286705e-06j,  1.46403346e-06-9.86971187e-06j,\n",
              "         2.35074457e-05-1.92920621e-05j,  8.71614485e-05+4.28196739e-06j,\n",
              "         1.66724376e-04+1.66724376e-04j,  2.94316223e-05+5.99094434e-04j,\n",
              "        -9.11423754e-04+1.11057306e-03j, -3.20491866e-03+4.75404774e-04j,\n",
              "        -5.72017690e-03-3.82210001e-03j, -3.34189038e-03-1.33415743e-02j,\n",
              "         1.22040677e-02-2.28322047e-02j,  4.32009980e-02-1.54575643e-02j,\n",
              "         7.07362417e-02+2.92999107e-02j,  5.14316713e-02+1.08743132e-01j,\n",
              "        -5.16550745e-02+1.70283960e-01j, -2.12582503e-01+1.27417049e-01j,\n",
              "        -3.18770930e-01-6.34074803e-02j, -2.39054776e-01-3.22328052e-01j,\n",
              "         4.57273813e-02-4.64277894e-01j,  3.78360899e-01-3.42926330e-01j,\n",
              "         5.26256510e-01+0.00000000e+00j,  3.78360899e-01+3.42926330e-01j,\n",
              "         4.57273813e-02+4.64277894e-01j, -2.39054776e-01+3.22328052e-01j,\n",
              "        -3.18770930e-01+6.34074803e-02j, -2.12582503e-01-1.27417049e-01j,\n",
              "        -5.16550745e-02-1.70283960e-01j,  5.14316713e-02-1.08743132e-01j,\n",
              "         7.07362417e-02-2.92999107e-02j,  4.32009980e-02+1.54575643e-02j,\n",
              "         1.22040677e-02+2.28322047e-02j, -3.34189038e-03+1.33415743e-02j,\n",
              "        -5.72017690e-03+3.82210001e-03j, -3.20491866e-03-4.75404774e-04j,\n",
              "        -9.11423754e-04-1.11057306e-03j,  2.94316223e-05-5.99094434e-04j,\n",
              "         1.66724376e-04-1.66724376e-04j,  8.71614485e-05-4.28196739e-06j,\n",
              "         2.35074457e-05+1.92920621e-05j,  1.46403346e-06+9.86971187e-06j,\n",
              "        -1.71245301e-06+2.56286705e-06j])]"
            ]
          },
          "metadata": {
            "tags": []
          },
          "execution_count": 178
        }
      ]
    },
    {
      "cell_type": "code",
      "metadata": {
        "id": "vkMHVlunhH7f",
        "colab_type": "code",
        "colab": {
          "base_uri": "https://localhost:8080/",
          "height": 316
        },
        "outputId": "92a843a8-df58-443c-8ec3-99b2722b5473"
      },
      "source": [
        "raw.plot();"
      ],
      "execution_count": 179,
      "outputs": [
        {
          "output_type": "display_data",
          "data": {
            "image/png": "[encoded data removed]",
            "text/plain": [
              "<Figure size 432x288 with 4 Axes>"
            ]
          },
          "metadata": {
            "tags": []
          }
        }
      ]
    },
    {
      "cell_type": "code",
      "metadata": {
        "id": "7GbeIaY2hH4W",
        "colab_type": "code",
        "colab": {}
      },
      "source": [
        ""
      ],
      "execution_count": null,
      "outputs": []
    }
  ]
}